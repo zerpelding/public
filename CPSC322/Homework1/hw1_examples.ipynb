{
 "cells": [
  {
   "cell_type": "markdown",
   "id": "a457d87a",
   "metadata": {},
   "source": [
    "# CPSC 322: HW-1\n",
    "\n",
    "Name: Zoe Erpelding\n",
    "\n",
    "Term: Fall 2023"
   ]
  },
  {
   "cell_type": "markdown",
   "id": "e93409ac",
   "metadata": {},
   "source": [
    "## 1. Load HW-1 functions"
   ]
  },
  {
   "cell_type": "code",
   "execution_count": 1,
   "id": "0e7e9126",
   "metadata": {},
   "outputs": [],
   "source": [
    "from hw1 import *"
   ]
  },
  {
   "cell_type": "markdown",
   "id": "1ce18089",
   "metadata": {},
   "source": [
    "## 2. Tests of the List Stats function"
   ]
  },
  {
   "cell_type": "code",
   "execution_count": 2,
   "id": "d0fc8d58",
   "metadata": {},
   "outputs": [
    {
     "data": {
      "text/plain": [
       "(1, 5, 3.0, 15)"
      ]
     },
     "execution_count": 2,
     "metadata": {},
     "output_type": "execute_result"
    }
   ],
   "source": [
    "list_stats([1,2,3,4,5])"
   ]
  },
  {
   "cell_type": "code",
   "execution_count": 3,
   "id": "1dcd7b75",
   "metadata": {},
   "outputs": [
    {
     "data": {
      "text/plain": [
       "(None, None, None, None)"
      ]
     },
     "execution_count": 3,
     "metadata": {},
     "output_type": "execute_result"
    }
   ],
   "source": [
    "list_stats([])"
   ]
  },
  {
   "cell_type": "code",
   "execution_count": 4,
   "id": "4bd358db",
   "metadata": {},
   "outputs": [
    {
     "data": {
      "text/plain": [
       "(1, 3, 2.0, 6)"
      ]
     },
     "execution_count": 4,
     "metadata": {},
     "output_type": "execute_result"
    }
   ],
   "source": [
    "list_stats([1,2,3])"
   ]
  },
  {
   "cell_type": "code",
   "execution_count": 5,
   "id": "0a348373",
   "metadata": {},
   "outputs": [
    {
     "data": {
      "text/plain": [
       "(1, 1, 1.0, 1)"
      ]
     },
     "execution_count": 5,
     "metadata": {},
     "output_type": "execute_result"
    }
   ],
   "source": [
    "list_stats([1])"
   ]
  },
  {
   "cell_type": "markdown",
   "id": "0839ec04",
   "metadata": {},
   "source": [
    "## 3. Tests of the Convert Numeric function"
   ]
  },
  {
   "cell_type": "code",
   "execution_count": 6,
   "id": "7b12dea2",
   "metadata": {},
   "outputs": [
    {
     "data": {
      "text/plain": [
       "'abc'"
      ]
     },
     "execution_count": 6,
     "metadata": {},
     "output_type": "execute_result"
    }
   ],
   "source": [
    "convert_numeric('abc')"
   ]
  },
  {
   "cell_type": "code",
   "execution_count": 7,
   "id": "6879d6f1",
   "metadata": {},
   "outputs": [
    {
     "data": {
      "text/plain": [
       "42"
      ]
     },
     "execution_count": 7,
     "metadata": {},
     "output_type": "execute_result"
    }
   ],
   "source": [
    "convert_numeric('42') "
   ]
  },
  {
   "cell_type": "code",
   "execution_count": 8,
   "id": "9f929539",
   "metadata": {},
   "outputs": [
    {
     "data": {
      "text/plain": [
       "3.14"
      ]
     },
     "execution_count": 8,
     "metadata": {},
     "output_type": "execute_result"
    }
   ],
   "source": [
    "convert_numeric('3.14')"
   ]
  },
  {
   "cell_type": "markdown",
   "id": "9e3fa277",
   "metadata": {},
   "source": [
    "## 4. Tests of the Random Matrix function (for loop implementation)"
   ]
  },
  {
   "cell_type": "code",
   "execution_count": 9,
   "id": "6a98e971",
   "metadata": {},
   "outputs": [
    {
     "data": {
      "text/plain": [
       "[[4, 1, 5], [2, 4, 5]]"
      ]
     },
     "execution_count": 9,
     "metadata": {},
     "output_type": "execute_result"
    }
   ],
   "source": [
    "random_matrix_for(2, 3)"
   ]
  },
  {
   "cell_type": "code",
   "execution_count": 10,
   "id": "dedc3384",
   "metadata": {},
   "outputs": [
    {
     "data": {
      "text/plain": [
       "[[2, 4], [1, 0], [3, 2], [4, 3]]"
      ]
     },
     "execution_count": 10,
     "metadata": {},
     "output_type": "execute_result"
    }
   ],
   "source": [
    "random_matrix_for(4,2)"
   ]
  },
  {
   "cell_type": "code",
   "execution_count": 11,
   "id": "3632aa75",
   "metadata": {},
   "outputs": [
    {
     "data": {
      "text/plain": [
       "[]"
      ]
     },
     "execution_count": 11,
     "metadata": {},
     "output_type": "execute_result"
    }
   ],
   "source": [
    "random_matrix_for(0,0)"
   ]
  },
  {
   "cell_type": "markdown",
   "id": "aa04fce3",
   "metadata": {},
   "source": [
    "## 5. Tests of the Random Matrix function (list-comprehension implementation)"
   ]
  },
  {
   "cell_type": "code",
   "execution_count": 12,
   "id": "f8e7c838",
   "metadata": {},
   "outputs": [
    {
     "data": {
      "text/plain": [
       "[[3, 5, 0], [5, 4, 2]]"
      ]
     },
     "execution_count": 12,
     "metadata": {},
     "output_type": "execute_result"
    }
   ],
   "source": [
    "random_matrix_comp(2, 3)"
   ]
  },
  {
   "cell_type": "code",
   "execution_count": 13,
   "id": "7f8024e0",
   "metadata": {},
   "outputs": [
    {
     "data": {
      "text/plain": [
       "[[1, 7], [3, 0], [5, 2], [5, 0]]"
      ]
     },
     "execution_count": 13,
     "metadata": {},
     "output_type": "execute_result"
    }
   ],
   "source": [
    "random_matrix_comp(4,2)"
   ]
  },
  {
   "cell_type": "code",
   "execution_count": 14,
   "id": "d2fa6236",
   "metadata": {},
   "outputs": [
    {
     "data": {
      "text/plain": [
       "[]"
      ]
     },
     "execution_count": 14,
     "metadata": {},
     "output_type": "execute_result"
    }
   ],
   "source": [
    "random_matrix_comp(0,0)"
   ]
  },
  {
   "cell_type": "markdown",
   "id": "c3b1b29d",
   "metadata": {},
   "source": [
    "## 6. Tests of the Transpose Matrix function"
   ]
  },
  {
   "cell_type": "code",
   "execution_count": 15,
   "id": "8cb9bc6d",
   "metadata": {},
   "outputs": [
    {
     "data": {
      "text/plain": [
       "[[1, 4], [2, 5], [3, 6]]"
      ]
     },
     "execution_count": 15,
     "metadata": {},
     "output_type": "execute_result"
    }
   ],
   "source": [
    "transpose_matrix([[1,2,3], [4, 5, 6]])"
   ]
  },
  {
   "cell_type": "code",
   "execution_count": 16,
   "id": "489789e1",
   "metadata": {},
   "outputs": [
    {
     "data": {
      "text/plain": [
       "[[1, 3, 5], [2, 4, 6]]"
      ]
     },
     "execution_count": 16,
     "metadata": {},
     "output_type": "execute_result"
    }
   ],
   "source": [
    "transpose_matrix([[1,2],[3,4],[5,6]])"
   ]
  },
  {
   "cell_type": "code",
   "execution_count": 17,
   "id": "360e565b",
   "metadata": {},
   "outputs": [
    {
     "data": {
      "text/plain": [
       "[]"
      ]
     },
     "execution_count": 17,
     "metadata": {},
     "output_type": "execute_result"
    }
   ],
   "source": [
    "transpose_matrix([])"
   ]
  },
  {
   "cell_type": "markdown",
   "id": "3655e108",
   "metadata": {},
   "source": [
    "## 7. Tests of the Reshape Matrix function"
   ]
  },
  {
   "cell_type": "code",
   "execution_count": 18,
   "id": "fc98d1e3",
   "metadata": {},
   "outputs": [
    {
     "data": {
      "text/plain": [
       "[[1, 2], [4, 5], [0, 0]]"
      ]
     },
     "execution_count": 18,
     "metadata": {},
     "output_type": "execute_result"
    }
   ],
   "source": [
    "reshape_matrix([[1, 2, 3], [4, 5, 6]], 3, 2)"
   ]
  },
  {
   "cell_type": "code",
   "execution_count": 19,
   "id": "1abe419e",
   "metadata": {},
   "outputs": [
    {
     "data": {
      "text/plain": [
       "[[1, 2, 0], [3, 4, 0]]"
      ]
     },
     "execution_count": 19,
     "metadata": {},
     "output_type": "execute_result"
    }
   ],
   "source": [
    "reshape_matrix([[1, 2], [3, 4], [5, 6]], 2, 3)"
   ]
  },
  {
   "cell_type": "code",
   "execution_count": 20,
   "id": "0da8ab0b",
   "metadata": {},
   "outputs": [
    {
     "data": {
      "text/plain": [
       "[[0, 0], [0, 0]]"
      ]
     },
     "execution_count": 20,
     "metadata": {},
     "output_type": "execute_result"
    }
   ],
   "source": [
    "reshape_matrix([], 2, 2)"
   ]
  },
  {
   "cell_type": "code",
   "execution_count": 21,
   "id": "23b1165d",
   "metadata": {},
   "outputs": [
    {
     "data": {
      "text/plain": [
       "[[1], [4]]"
      ]
     },
     "execution_count": 21,
     "metadata": {},
     "output_type": "execute_result"
    }
   ],
   "source": [
    "reshape_matrix([[1,2,3],[4,5,6]], 2, 1)"
   ]
  },
  {
   "cell_type": "code",
   "execution_count": 22,
   "id": "88632a99",
   "metadata": {},
   "outputs": [
    {
     "data": {
      "text/plain": [
       "[[1, 2, 3, 0], [4, 5, 6, 0], [0, 0, 0, 0], [0, 0, 0, 0]]"
      ]
     },
     "execution_count": 22,
     "metadata": {},
     "output_type": "execute_result"
    }
   ],
   "source": [
    "reshape_matrix([[1,2,3],[4,5,6]], 4, 4)"
   ]
  },
  {
   "cell_type": "markdown",
   "id": "d3970ac4",
   "metadata": {},
   "source": [
    "## 8. Challenges and Issues\n",
    "\n",
    "I had issues with the Jupyter Notebook (due to this late submission of the notebook) because all these updates are saved to my files on my computer, but I did not push them to GitHub so they were not seen by the grader.\n",
    "\n",
    "There were no issues that are currently stopping my code from completing its purpose. I had some issues with understanding the list comprehension, but that was solved after talking with Dr. Bowers during his office hours. I still have some confusion on the \"try-except\" use, but I got it to accomplish what I wanted to in my convert_numeric function, even though I am not sure that I am using it in the most efficient/technically correct way. "
   ]
  }
 ],
 "metadata": {
  "kernelspec": {
   "display_name": "Python 3 (ipykernel)",
   "language": "python",
   "name": "python3"
  },
  "language_info": {
   "codemirror_mode": {
    "name": "ipython",
    "version": 3
   },
   "file_extension": ".py",
   "mimetype": "text/x-python",
   "name": "python",
   "nbconvert_exporter": "python",
   "pygments_lexer": "ipython3",
   "version": "3.11.4"
  }
 },
 "nbformat": 4,
 "nbformat_minor": 5
}
